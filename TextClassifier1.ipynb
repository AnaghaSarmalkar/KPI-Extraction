{
 "cells": [
  {
   "cell_type": "markdown",
   "metadata": {},
   "source": [
    "## Import all necessary libraries"
   ]
  },
  {
   "cell_type": "code",
   "execution_count": 33,
   "metadata": {},
   "outputs": [],
   "source": [
    "from sklearn.datasets import load_files\n",
    "from sklearn.model_selection import train_test_split\n",
    "from sklearn.feature_extraction.text import  CountVectorizer\n",
    "from sklearn.naive_bayes import MultinomialNB\n",
    "from sklearn.feature_extraction.text import TfidfVectorizer\n",
    "from sklearn import svm\n",
    "from sklearn.svm import SVC\n",
    "import numpy as np\n",
    "from sklearn import metrics\n",
    "from sklearn.metrics import classification_report\n",
    "import re\n",
    "from sklearn.linear_model import LogisticRegression\n",
    "import glob\n",
    "import shutil\n",
    "import xlrd\n",
    "import os\n",
    "from io import StringIO"
   ]
  },
  {
   "cell_type": "markdown",
   "metadata": {},
   "source": [
    "## Data\n",
    "\n",
    "* Creating a List of Investment Related Documents in a text file"
   ]
  },
  {
   "cell_type": "code",
   "execution_count": 34,
   "metadata": {},
   "outputs": [],
   "source": [
    "# gets the names of sheets in investment excel\n",
    "xls = xlrd.open_workbook(r'KPI_extraction_file.xlsx', on_demand=True)\n",
    "sheets =  xls.sheet_names()\n",
    "\n",
    "# writes the sheet names into a text file\n",
    "with open(r\"investment_related.txt\", \"w\") as myF:\n",
    "    for x in sheets:\n",
    "        myF.write(x+\"\\n\")"
   ]
  },
  {
   "cell_type": "markdown",
   "metadata": {},
   "source": [
    "* Creating Labelled Dataset to train Classifier"
   ]
  },
  {
   "cell_type": "code",
   "execution_count": 35,
   "metadata": {},
   "outputs": [],
   "source": [
    "#gets list of all files in the folder\n",
    "allFiles = os.listdir(\"./TextFilesAllPapers/\")\n",
    "\n",
    "true_files=''\n",
    "\n",
    "#gets a list of filenames where the document is investment related\n",
    "with open('investment_related.txt', 'r') as file:\n",
    "    true_files = file.read().replace('\\n', ' ')\n",
    "    true_files = true_files.replace('.pdf', '')\n",
    "\n",
    "\n",
    "true_files = true_files.split()\n",
    "\n",
    "destination0 = \"./data/0/\"\n",
    "destination1 = \"./data/1/\"\n",
    "\n",
    "#divides investment related and non related files in 2 different folders\n",
    "for file in allFiles:\n",
    "    x = file.split('.')\n",
    "    if x[0] in true_files:\n",
    "        shutil.copy(\"./TextFilesAllPapers/\"+x[0]+\".txt\",destination1)\n",
    "    else:\n",
    "        shutil.copy(\"./TextFilesAllPapers/\"+x[0]+\".txt\",destination0)"
   ]
  },
  {
   "cell_type": "markdown",
   "metadata": {},
   "source": [
    "## Load the dataset"
   ]
  },
  {
   "cell_type": "code",
   "execution_count": 2,
   "metadata": {},
   "outputs": [],
   "source": [
    "datafiles = load_files(\"./data\")"
   ]
  },
  {
   "cell_type": "markdown",
   "metadata": {},
   "source": [
    "## Create Training and Test datasets.\n",
    "* The dataset has been split into Training and Test sets using the 80:20 ratio."
   ]
  },
  {
   "cell_type": "code",
   "execution_count": 3,
   "metadata": {},
   "outputs": [],
   "source": [
    "doc_str_list_train, doc_str_list_test, doc_class_list_train, doc_class_list_test = train_test_split(datafiles.data, datafiles.target, test_size = 0.2, random_state = 0)"
   ]
  },
  {
   "cell_type": "code",
   "execution_count": 36,
   "metadata": {},
   "outputs": [],
   "source": [
    "def getChList(docStr):\n",
    "    s = re.sub(\" \\d+\", \"\", str(docStr))\n",
    "    ss = re.sub(\" \\W\", \"\", s)\n",
    "    chList= ss.split(\" \")\n",
    "    return chList"
   ]
  },
  {
   "cell_type": "markdown",
   "metadata": {},
   "source": [
    "## Tokenize the Documents\n",
    "\n",
    "* Tokenize the documents and run Machine Learning algorithms for classification."
   ]
  },
  {
   "cell_type": "markdown",
   "metadata": {},
   "source": [
    "### A. TF-IDF Vectorizer"
   ]
  },
  {
   "cell_type": "code",
   "execution_count": 37,
   "metadata": {},
   "outputs": [],
   "source": [
    "vectorizer = TfidfVectorizer(binary = True, decode_error = u'ignore')\n",
    "word_tokenizer = vectorizer.build_tokenizer()\n",
    "doc_terms_list_train = list(getChList(doc_str) for doc_str in doc_str_list_train)\n",
    "doc_terms_list_test = list(getChList(doc_str) for doc_str in doc_str_list_test)\n",
    "doc_train_vec = vectorizer.fit_transform(doc_str_list_train)\n",
    "doc_test_vec= vectorizer.transform(doc_str_list_test)"
   ]
  },
  {
   "cell_type": "markdown",
   "metadata": {},
   "source": [
    "### A.1 Multinomial Naive Bayes"
   ]
  },
  {
   "cell_type": "code",
   "execution_count": 5,
   "metadata": {},
   "outputs": [],
   "source": [
    "clf = MultinomialNB().fit(doc_train_vec, doc_class_list_train)  \n",
    "doc_test_predicted = clf.predict(doc_test_vec)"
   ]
  },
  {
   "cell_type": "code",
   "execution_count": 11,
   "metadata": {},
   "outputs": [
    {
     "name": "stdout",
     "output_type": "stream",
     "text": [
      "The accuracy for Multinomial Naive Bayes Classifier is  70.0\n",
      "The classification report for Multinomial Naive Bayes Classifier is as followed:\n",
      "\n",
      "               precision    recall  f1-score   support\n",
      "\n",
      "           0       0.70      1.00      0.82        98\n",
      "           1       0.00      0.00      0.00        42\n",
      "\n",
      "   micro avg       0.70      0.70      0.70       140\n",
      "   macro avg       0.35      0.50      0.41       140\n",
      "weighted avg       0.49      0.70      0.58       140\n",
      "\n",
      "Confusion matrix for Multinomial Naive Bayes Classifier is:\n",
      "\n",
      " 98 0 42 0\n"
     ]
    }
   ],
   "source": [
    "target_names=[\"0\",\"1\"]\n",
    "acc = np.mean(doc_test_predicted == doc_class_list_test)\n",
    "print(\"The accuracy for Multinomial Naive Bayes Classifier is \",acc*100)\n",
    "print(\"The classification report for Multinomial Naive Bayes Classifier is as followed:\\n\\n\",\n",
    "      classification_report(doc_class_list_test, doc_test_predicted, target_names=target_names))\n",
    "tn, fp, fn, tp = metrics.confusion_matrix(doc_class_list_test, doc_test_predicted).ravel()\n",
    "print(\"Confusion matrix for Multinomial Naive Bayes Classifier is:\\n\\n\", tn, fp, fn, tp)"
   ]
  },
  {
   "cell_type": "markdown",
   "metadata": {},
   "source": [
    "### A.2 Linear Support Vector Machine"
   ]
  },
  {
   "cell_type": "code",
   "execution_count": 12,
   "metadata": {},
   "outputs": [],
   "source": [
    "clf1 = svm.SVC(kernel='linear')\n",
    "clf1.fit(doc_train_vec, doc_class_list_train)\n",
    "doc_test_predicted1=clf1.predict(doc_test_vec)"
   ]
  },
  {
   "cell_type": "code",
   "execution_count": 13,
   "metadata": {},
   "outputs": [
    {
     "name": "stdout",
     "output_type": "stream",
     "text": [
      "The accuracy for Linear SVM Classifier is  80.71428571428572\n",
      "The classification report for Linear SVM Classifier is as followed:\n",
      "\n",
      "               precision    recall  f1-score   support\n",
      "\n",
      "           0       0.84      0.89      0.87        98\n",
      "           1       0.70      0.62      0.66        42\n",
      "\n",
      "   micro avg       0.81      0.81      0.81       140\n",
      "   macro avg       0.77      0.75      0.76       140\n",
      "weighted avg       0.80      0.81      0.80       140\n",
      "\n",
      "Confusion matrix for Linear SVM Classifier is:\n",
      "\n",
      " [[87 11]\n",
      " [16 26]]\n"
     ]
    }
   ],
   "source": [
    "acc = np.mean(doc_test_predicted1 == doc_class_list_test)\n",
    "print(\"The accuracy for Linear SVM Classifier is \",acc*100)\n",
    "print(\"The classification report for Linear SVM Classifier is as followed:\\n\\n\",\n",
    "      classification_report(doc_class_list_test, doc_test_predicted1, target_names=target_names))\n",
    "print(\"Confusion matrix for Linear SVM Classifier is:\\n\\n\", metrics.confusion_matrix(doc_class_list_test, doc_test_predicted1))"
   ]
  },
  {
   "cell_type": "code",
   "execution_count": 14,
   "metadata": {},
   "outputs": [
    {
     "name": "stdout",
     "output_type": "stream",
     "text": [
      "Confusion matrix for Linear SVM Classifier is:\n",
      "\n",
      " 87 11 16 26\n"
     ]
    }
   ],
   "source": [
    "tn, fp, fn, tp = metrics.confusion_matrix(doc_class_list_test, doc_test_predicted1).ravel()\n",
    "print(\"Confusion matrix for Linear SVM Classifier is:\\n\\n\", tn, fp, fn, tp)"
   ]
  },
  {
   "cell_type": "markdown",
   "metadata": {},
   "source": [
    "### A.3 Logistic Regression"
   ]
  },
  {
   "cell_type": "code",
   "execution_count": 16,
   "metadata": {},
   "outputs": [],
   "source": [
    "clf2 = LogisticRegression(random_state=0, solver='lbfgs',\n",
    "                         multi_class='multinomial').fit(doc_train_vec, doc_class_list_train)\n",
    "doc_test_predicted2 = clf2.predict(doc_test_vec)"
   ]
  },
  {
   "cell_type": "code",
   "execution_count": 17,
   "metadata": {},
   "outputs": [
    {
     "name": "stdout",
     "output_type": "stream",
     "text": [
      "The accuracy for Logistic Regression Classifier is  82.85714285714286\n",
      "The classification report for Logistic Regression Classifier is as followed:\n",
      "\n",
      "               precision    recall  f1-score   support\n",
      "\n",
      "           0       0.86      0.91      0.88        98\n",
      "           1       0.75      0.64      0.69        42\n",
      "\n",
      "   micro avg       0.83      0.83      0.83       140\n",
      "   macro avg       0.80      0.78      0.79       140\n",
      "weighted avg       0.82      0.83      0.82       140\n",
      "\n",
      "Confusion matrix for Logistic Regression Classifier is:\n",
      "\n",
      " [[89  9]\n",
      " [15 27]]\n"
     ]
    }
   ],
   "source": [
    "acc = np.mean(doc_test_predicted2 == doc_class_list_test)\n",
    "print(\"The accuracy for Logistic Regression Classifier is \",acc*100)\n",
    "print(\"The classification report for Logistic Regression Classifier is as followed:\\n\\n\",\n",
    "      classification_report(doc_class_list_test, doc_test_predicted2, target_names=target_names))\n",
    "print(\"Confusion matrix for Logistic Regression Classifier is:\\n\\n\", metrics.confusion_matrix(doc_class_list_test, doc_test_predicted2))"
   ]
  },
  {
   "cell_type": "code",
   "execution_count": 18,
   "metadata": {},
   "outputs": [
    {
     "name": "stdout",
     "output_type": "stream",
     "text": [
      "Confusion matrix for Logistic Regression Classifier is:\n",
      "\n",
      " 89 9 15 27\n"
     ]
    }
   ],
   "source": [
    "tn, fp, fn, tp = metrics.confusion_matrix(doc_class_list_test, doc_test_predicted2).ravel()\n",
    "print(\"Confusion matrix for Logistic Regression Classifier is:\\n\\n\", tn, fp, fn, tp)"
   ]
  },
  {
   "cell_type": "markdown",
   "metadata": {},
   "source": [
    "### B. Count Vectorizer"
   ]
  },
  {
   "cell_type": "code",
   "execution_count": 21,
   "metadata": {},
   "outputs": [],
   "source": [
    "vectorizer2 = CountVectorizer(binary = True, decode_error = u'ignore')\n",
    "word_tokenizer2 = vectorizer2.build_tokenizer()\n",
    "# doc_terms_list_train2 = list(getChList(doc_str) for doc_str in doc_str_list_train)\n",
    "# doc_terms_list_test2 = list(getChList(doc_str) for doc_str in doc_str_list_test)\n",
    "doc_train_vec1 = vectorizer2.fit_transform(doc_str_list_train)\n",
    "doc_test_vec1 = vectorizer2.transform(doc_str_list_test)"
   ]
  },
  {
   "cell_type": "markdown",
   "metadata": {},
   "source": [
    "### B.1 Multinomial Naive Bayes"
   ]
  },
  {
   "cell_type": "code",
   "execution_count": 22,
   "metadata": {},
   "outputs": [],
   "source": [
    "clf3 = MultinomialNB().fit(doc_train_vec1, doc_class_list_train)  \n",
    "doc_test_predicted3 = clf3.predict(doc_test_vec1)"
   ]
  },
  {
   "cell_type": "code",
   "execution_count": 23,
   "metadata": {},
   "outputs": [
    {
     "name": "stdout",
     "output_type": "stream",
     "text": [
      "The accuracy for Multinomial Naive Bayes Classifier is  75.71428571428571\n",
      "The classification report for Multinomial Naive Bayes Classifier is as followed:\n",
      "\n",
      "               precision    recall  f1-score   support\n",
      "\n",
      "           0       0.86      0.78      0.82        98\n",
      "           1       0.58      0.71      0.64        42\n",
      "\n",
      "   micro avg       0.76      0.76      0.76       140\n",
      "   macro avg       0.72      0.74      0.73       140\n",
      "weighted avg       0.78      0.76      0.76       140\n",
      "\n",
      "Confusion matrix for Multinomial Naive Bayes Classifier is:\n",
      "\n",
      " [[76 22]\n",
      " [12 30]]\n"
     ]
    }
   ],
   "source": [
    "target_names=[\"0\",\"1\"]\n",
    "acc = np.mean(doc_test_predicted3 == doc_class_list_test)\n",
    "print(\"The accuracy for Multinomial Naive Bayes Classifier is \",acc*100)\n",
    "print(\"The classification report for Multinomial Naive Bayes Classifier is as followed:\\n\\n\",\n",
    "      classification_report(doc_class_list_test, doc_test_predicted3, target_names=target_names))\n",
    "print(\"Confusion matrix for Multinomial Naive Bayes Classifier is:\\n\\n\", metrics.confusion_matrix(doc_class_list_test, doc_test_predicted3))"
   ]
  },
  {
   "cell_type": "code",
   "execution_count": 24,
   "metadata": {},
   "outputs": [
    {
     "name": "stdout",
     "output_type": "stream",
     "text": [
      "Confusion matrix for Multinomial Naive Bayes Classifier is:\n",
      "\n",
      " 76 22 12 30\n"
     ]
    }
   ],
   "source": [
    "tn, fp, fn, tp = metrics.confusion_matrix(doc_class_list_test, doc_test_predicted3).ravel()\n",
    "print(\"Confusion matrix for Multinomial Naive Bayes Classifier is:\\n\\n\", tn, fp, fn, tp)"
   ]
  },
  {
   "cell_type": "markdown",
   "metadata": {},
   "source": [
    "### B.2 Linear Support Vector Machine"
   ]
  },
  {
   "cell_type": "code",
   "execution_count": 25,
   "metadata": {},
   "outputs": [],
   "source": [
    "clf4 = svm.SVC(kernel='linear')\n",
    "clf4.fit(doc_train_vec1, doc_class_list_train)\n",
    "doc_test_predicted4=clf4.predict(doc_test_vec1)"
   ]
  },
  {
   "cell_type": "code",
   "execution_count": 26,
   "metadata": {},
   "outputs": [
    {
     "name": "stdout",
     "output_type": "stream",
     "text": [
      "The accuracy for Linear SVM Classifier is  81.42857142857143\n",
      "The classification report for Linear SVM Classifier is as followed:\n",
      "\n",
      "               precision    recall  f1-score   support\n",
      "\n",
      "           0       0.87      0.87      0.87        98\n",
      "           1       0.69      0.69      0.69        42\n",
      "\n",
      "   micro avg       0.81      0.81      0.81       140\n",
      "   macro avg       0.78      0.78      0.78       140\n",
      "weighted avg       0.81      0.81      0.81       140\n",
      "\n",
      "Confusion matrix for Linear SVM Classifier is:\n",
      "\n",
      " [[85 13]\n",
      " [13 29]]\n"
     ]
    }
   ],
   "source": [
    "acc = np.mean(doc_test_predicted4 == doc_class_list_test)\n",
    "print(\"The accuracy for Linear SVM Classifier is \",acc*100)\n",
    "print(\"The classification report for Linear SVM Classifier is as followed:\\n\\n\",\n",
    "      classification_report(doc_class_list_test, doc_test_predicted4, target_names=target_names))\n",
    "print(\"Confusion matrix for Linear SVM Classifier is:\\n\\n\", metrics.confusion_matrix(doc_class_list_test, doc_test_predicted4))"
   ]
  },
  {
   "cell_type": "code",
   "execution_count": 27,
   "metadata": {},
   "outputs": [
    {
     "name": "stdout",
     "output_type": "stream",
     "text": [
      "Confusion matrix for Linear SVM Classifier Classifier is:\n",
      "\n",
      " 85 13 13 29\n"
     ]
    }
   ],
   "source": [
    "tn, fp, fn, tp = metrics.confusion_matrix(doc_class_list_test, doc_test_predicted4).ravel()\n",
    "print(\"Confusion matrix for Linear SVM Classifier Classifier is:\\n\\n\", tn, fp, fn, tp)"
   ]
  },
  {
   "cell_type": "markdown",
   "metadata": {},
   "source": [
    "### B.3 Logistic Regression"
   ]
  },
  {
   "cell_type": "code",
   "execution_count": 28,
   "metadata": {},
   "outputs": [],
   "source": [
    "clf5 = LogisticRegression(random_state=0, solver='lbfgs',\n",
    "                         multi_class='multinomial').fit(doc_train_vec1, doc_class_list_train)\n",
    "doc_test_predicted5 = clf5.predict(doc_test_vec1)"
   ]
  },
  {
   "cell_type": "code",
   "execution_count": 29,
   "metadata": {},
   "outputs": [
    {
     "name": "stdout",
     "output_type": "stream",
     "text": [
      "The accuracy for Logistic Regression Classifier is  80.71428571428572\n",
      "The classification report for Logistic Regression Classifier is as followed:\n",
      "\n",
      "               precision    recall  f1-score   support\n",
      "\n",
      "           0       0.86      0.87      0.86        98\n",
      "           1       0.68      0.67      0.67        42\n",
      "\n",
      "   micro avg       0.81      0.81      0.81       140\n",
      "   macro avg       0.77      0.77      0.77       140\n",
      "weighted avg       0.81      0.81      0.81       140\n",
      "\n",
      "Confusion matrix for Logistic Regression Classifier is:\n",
      "\n",
      " [[85 13]\n",
      " [14 28]]\n"
     ]
    }
   ],
   "source": [
    "acc = np.mean(doc_test_predicted5 == doc_class_list_test)\n",
    "print(\"The accuracy for Logistic Regression Classifier is \",acc*100)\n",
    "print(\"The classification report for Logistic Regression Classifier is as followed:\\n\\n\",\n",
    "      classification_report(doc_class_list_test, doc_test_predicted5, target_names=target_names))\n",
    "print(\"Confusion matrix for Logistic Regression Classifier is:\\n\\n\", metrics.confusion_matrix(doc_class_list_test, doc_test_predicted5))"
   ]
  },
  {
   "cell_type": "code",
   "execution_count": 30,
   "metadata": {},
   "outputs": [
    {
     "name": "stdout",
     "output_type": "stream",
     "text": [
      "Confusion matrix for Logistic Regression Classifier is:\n",
      "\n",
      " 85 13 14 28\n"
     ]
    }
   ],
   "source": [
    "tn, fp, fn, tp = metrics.confusion_matrix(doc_class_list_test, doc_test_predicted5).ravel()\n",
    "print(\"Confusion matrix for Logistic Regression Classifier is:\\n\\n\", tn, fp, fn, tp)"
   ]
  }
 ],
 "metadata": {
  "kernelspec": {
   "display_name": "Python 3",
   "language": "python",
   "name": "python3"
  },
  "language_info": {
   "codemirror_mode": {
    "name": "ipython",
    "version": 3
   },
   "file_extension": ".py",
   "mimetype": "text/x-python",
   "name": "python",
   "nbconvert_exporter": "python",
   "pygments_lexer": "ipython3",
   "version": "3.6.7"
  }
 },
 "nbformat": 4,
 "nbformat_minor": 2
}
